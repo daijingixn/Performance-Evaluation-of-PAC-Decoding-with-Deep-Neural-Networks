{
 "cells": [
  {
   "cell_type": "markdown",
   "metadata": {},
   "source": [
    "# Generation of data for training net"
   ]
  },
  {
   "cell_type": "code",
   "execution_count": 1,
   "metadata": {
    "scrolled": true
   },
   "outputs": [],
   "source": [
    "from polar_codes.channels.bpsk_awgn_channel import BpskAwgnChannel\n",
    "import numpy as np\n",
    "from numpy import save\n",
    "import torch\n",
    "import torch.nn as nn\n",
    "import torch.nn.functional as F\n",
    "from sklearn.model_selection import train_test_split\n",
    "from torch.utils.data import TensorDataset, DataLoader\n",
    "from polar_codes.PAC_code import PACCode\n",
    "from polar_codes.rate_profile import rateprofile\n",
    "import polar_codes.polar_coding_functions as pcf\n",
    "import datetime\n",
    "import time"
   ]
  },
  {
   "cell_type": "code",
   "execution_count": 2,
   "metadata": {
    "scrolled": true
   },
   "outputs": [],
   "source": [
    "epochs = 2048#epoch number\n",
    "print_time = 100#print frequency"
   ]
  },
  {
   "cell_type": "code",
   "execution_count": 3,
   "metadata": {},
   "outputs": [
    {
     "name": "stdout",
     "output_type": "stream",
     "text": [
      "X_save_data__2024-04-23-01-19.npy\n",
      "Y_save_data__2024-04-23-01-19.npy\n"
     ]
    }
   ],
   "source": [
    "current_datetime = datetime.datetime.now()\n",
    "formatted_datetime = current_datetime.strftime(\"%Y-%m-%d-%H-%M\")\n",
    "x_file_name_prefix = \"X_save_data_\"\n",
    "y_file_name_prefix = \"Y_save_data_\"\n",
    "file_extension = \".npy\"\n",
    "x_save_file_name = f\"{x_file_name_prefix}_{formatted_datetime}{file_extension}\"\n",
    "y_save_file_name = f\"{y_file_name_prefix}_{formatted_datetime}{file_extension}\"\n",
    "print(x_save_file_name)\n",
    "print(y_save_file_name)"
   ]
  },
  {
   "cell_type": "code",
   "execution_count": 4,
   "metadata": {},
   "outputs": [],
   "source": [
    "Model_Flag = False\n",
    "Data_Flag  = False\n",
    "log_dir    = 'file_2024-04-12-19-07.path'\n",
    "save_fileX = 'X_save_data__2024-04-12-16-01.npy'\n",
    "save_fileY = 'y_save_data__2024-04-12-16-01.npy'\n",
    "Test_Model = 'MLP'\n",
    "LLR_Model  = 'Calc' #Hard--hard demodulation; Dire--channel direct input; Calc--LLR value\n",
    "n=4\n",
    "N = 16\n",
    "K = 8\n",
    "R = K / N\n",
    "batch = 512\n",
    "conv_gen = [1,0,1,1,0,1,1]\n",
    "mem = len(conv_gen)-1\n",
    "num_of_data = 2**20#The size of training data\n",
    "X = np.zeros([num_of_data,N], dtype=np.float64)#training data\n",
    "Y = np.zeros([num_of_data,K], dtype=np.int64)#label data"
   ]
  },
  {
   "cell_type": "code",
   "execution_count": 5,
   "metadata": {},
   "outputs": [],
   "source": [
    "def ten_binary(a):\n",
    "    m = [0,0,0,0,0,0,0,0]\n",
    "    j = 0\n",
    "    while a>0:\n",
    "        m[j] = a%2\n",
    "        a=a//2\n",
    "        j = j + 1\n",
    "    return(m[::-1])"
   ]
  },
  {
   "cell_type": "code",
   "execution_count": 6,
   "metadata": {},
   "outputs": [],
   "source": [
    "def generate(n, K, num_of_data): #generate data\n",
    "    sinrdb = 0.0\n",
    "    channel = BpskAwgnChannel(sinrdb,R)\n",
    "    rprofile = rateprofile(N,K, sinrdb)\n",
    "    code = PACCode(N=N, K=K, construct='rm-polar',dSNR=sinrdb, rprofile=rprofile)#rm-polar\n",
    "    for i in range(0, num_of_data):\n",
    "        u_message = np.asarray([0 if np.random.random_sample() > 0.5 else 1 for _ in range(0, K)], dtype='uint8')\n",
    "        # u_message = ten_binary(np.mod(i, 2 ** K))\n",
    "        \n",
    "        x_message = code.pac_encode(u_message, conv_gen, mem)\n",
    "\n",
    "        to_message = channel.modulate(x_message)#BPSK\n",
    "        from_message = channel.transmit(to_message)#Add noise\n",
    "        \n",
    "        if LLR_Model  == 'Hard':\n",
    "            y_message = channel.demodulate(from_message)\n",
    "        elif LLR_Model  == 'Dire':\n",
    "            y_message = from_message\n",
    "        elif LLR_Model == 'Calc':\n",
    "            y_message = channel.cal_llr(from_message)\n",
    "        else:\n",
    "            raise SystemExit('Please select the correct input')\n",
    "        X[i] = y_message #save training data\n",
    "        Y[i] = u_message #save label data\n",
    "    print(code.polarcode_mask)"
   ]
  },
  {
   "cell_type": "code",
   "execution_count": 7,
   "metadata": {},
   "outputs": [
    {
     "name": "stdout",
     "output_type": "stream",
     "text": [
      "Generate data\n",
      "[0 0 0 0 0 0 1 1 0 0 1 1 1 1 1 1]\n"
     ]
    }
   ],
   "source": [
    "if Data_Flag:\n",
    "    print('Load storage data')\n",
    "else:\n",
    "    print('Generate data')\n",
    "    generate(n, K, num_of_data)"
   ]
  },
  {
   "cell_type": "code",
   "execution_count": 8,
   "metadata": {},
   "outputs": [
    {
     "name": "stdout",
     "output_type": "stream",
     "text": [
      "Save new data\n"
     ]
    }
   ],
   "source": [
    "if Data_Flag:\n",
    "    print('No new data')    \n",
    "else:\n",
    "    print('Save new data')  \n",
    "    save(x_save_file_name, X) #Save training data\n",
    "    save(y_save_file_name, Y) #Save label data"
   ]
  },
  {
   "cell_type": "markdown",
   "metadata": {},
   "source": [
    "# Network"
   ]
  },
  {
   "cell_type": "code",
   "execution_count": 9,
   "metadata": {},
   "outputs": [],
   "source": [
    "class Net(nn.Module):\n",
    "    def __init__(self):\n",
    "        super(Net, self).__init__()\n",
    "        self.fc1 = nn.Linear(16,128)\n",
    "        self.bn1 = nn.BatchNorm1d(128, momentum=.9999)\n",
    "        self.fc2 = nn.Linear(128,128)\n",
    "        self.bn2 = nn.BatchNorm1d(128, momentum=.9999)\n",
    "        self.fc3 = nn.Linear(128,128)\n",
    "        self.bn3 = nn.BatchNorm1d(128, momentum=.9999)\n",
    "        self.fc4 = nn.Linear(128,8)\n",
    "        self.sigmoid = nn.Sigmoid()\n",
    "    def forward(self, x):\n",
    "        x = F.relu(self.fc1(x))\n",
    "        x = self.bn1(x)\n",
    "        x = F.relu(self.fc2(x))\n",
    "        x = self.bn2(x)\n",
    "        x = F.relu(self.fc3(x))\n",
    "        x = self.bn3(x)\n",
    "        x = self.sigmoid(self.fc4(x))\n",
    "        return x"
   ]
  },
  {
   "cell_type": "code",
   "execution_count": 10,
   "metadata": {},
   "outputs": [],
   "source": [
    "class RNN_Net(nn.Module):\n",
    "    def __init__(self, input_size, hidden_size, num_layers, output_size):\n",
    "        super(RNN_Net, self).__init__()\n",
    "        self.hidden_size = hidden_size\n",
    "        self.num_layers = num_layers\n",
    "        self.lstm = nn.LSTM(input_size, hidden_size, num_layers, batch_first=True, bidirectional=False)\n",
    "        self.fc = nn.Linear(hidden_size, output_size)\n",
    "        self.sigmoid = nn.Sigmoid()\n",
    "    def forward(self, x):\n",
    "        h0 = torch.zeros(self.num_layers, x.size(0), self.hidden_size)\n",
    "        c0 = torch.zeros(self.num_layers, x.size(0), self.hidden_size)\n",
    "        \n",
    "        h0 = h0.to(device)\n",
    "        c0 = c0.to(device)\n",
    "        \n",
    "        out, _ = self.lstm(x, (h0, c0))\n",
    "        out = self.fc(out[:, -1, :])\n",
    "        out = self.sigmoid(out)\n",
    "        return out"
   ]
  },
  {
   "cell_type": "code",
   "execution_count": 11,
   "metadata": {},
   "outputs": [],
   "source": [
    "class CNN_Net(nn.Module):\n",
    "    def __init__(self):\n",
    "        super(CNN_Net, self).__init__() \n",
    "        self.conv1 = nn.Sequential(\n",
    "            nn.Conv2d(\n",
    "                in_channels=1,    \n",
    "                out_channels=128, \n",
    "                kernel_size=[1,4],    # 1x4\n",
    "                #stride=1,         \n",
    "                padding='same'       \n",
    "            ),\n",
    "            nn.ReLU(),\n",
    "            nn.MaxPool2d(kernel_size=[1,2],stride=[1,2]) \n",
    "        )\n",
    "        self.conv2 = nn.Sequential(\n",
    "            nn.Conv2d(\n",
    "                in_channels=128,    \n",
    "                out_channels=64,\n",
    "                kernel_size=[1,4],\n",
    "                #stride=1,\n",
    "                padding='same'\n",
    "            ),\n",
    "            nn.ReLU(),\n",
    "            nn.MaxPool2d(kernel_size=[1,2],stride=[1,2]) \n",
    "        )\n",
    "        self.conv3 = nn.Sequential(\n",
    "            nn.Conv2d(\n",
    "                in_channels=64,    \n",
    "                out_channels=16,\n",
    "                kernel_size=[1,4],\n",
    "                # stride=1,\n",
    "                padding='same'\n",
    "            ),\n",
    "            nn.ReLU(),\n",
    "            nn.MaxPool2d(kernel_size=[1,2],stride=[1,2]) \n",
    "        )\n",
    "        self.output = nn.Linear(in_features=16*1*2, out_features=8)\n",
    "        self.active = nn.Sigmoid()\n",
    "    def forward(self, x):\n",
    "        x = self.conv1(x)\n",
    "        x = self.conv2(x)          \n",
    "        x = self.conv3(x)\n",
    "        x = x.view(x.size(0), -1)   \n",
    "        output = self.output(x)     \n",
    "        output = self.active(output)\n",
    "        return output"
   ]
  },
  {
   "cell_type": "markdown",
   "metadata": {},
   "source": [
    "# Training"
   ]
  },
  {
   "cell_type": "code",
   "execution_count": 12,
   "metadata": {},
   "outputs": [
    {
     "name": "stdout",
     "output_type": "stream",
     "text": [
      "No storage data！\n"
     ]
    }
   ],
   "source": [
    "if Data_Flag:\n",
    "    X = np.load(save_fileX)\n",
    "    Y = np.load(save_fileY)\n",
    "    print('Load data！')\n",
    "else:\n",
    "    X = np.load(x_save_file_name)\n",
    "    Y = np.load(y_save_file_name)\n",
    "    print('No storage data！')"
   ]
  },
  {
   "cell_type": "code",
   "execution_count": 13,
   "metadata": {},
   "outputs": [],
   "source": [
    "X_train, X_test, Y_train, Y_test = train_test_split(X, Y, test_size=1/4, random_state=42)"
   ]
  },
  {
   "cell_type": "code",
   "execution_count": 14,
   "metadata": {},
   "outputs": [
    {
     "name": "stdout",
     "output_type": "stream",
     "text": [
      "MLP\n"
     ]
    }
   ],
   "source": [
    "# device = torch.device('cuda') #GPU\n",
    "device = torch.device('cpu') #CPU\n",
    "\n",
    "if Test_Model == 'CNN':\n",
    "    dnn = CNN_Net().to(device)\n",
    "    print(\"CNN\")\n",
    "elif Test_Model == 'RNN':\n",
    "    dnn = RNN_Net(input_size=16, hidden_size=90, num_layers=1, output_size=8).to(device)\n",
    "    print(\"RNN\")\n",
    "elif Test_Model == 'MLP':\n",
    "    dnn = Net().to(device)\n",
    "    print(\"MLP\")\n",
    "else:\n",
    "    print(\"Please select the correct model\")"
   ]
  },
  {
   "cell_type": "code",
   "execution_count": 15,
   "metadata": {},
   "outputs": [
    {
     "name": "stdout",
     "output_type": "stream",
     "text": [
      "The model runs on the CPU\n"
     ]
    }
   ],
   "source": [
    "if str(device) == \"cuda\":\n",
    "    print(\"The model runs on the GPU\")\n",
    "else:\n",
    "    print(\"The model runs on the CPU\")"
   ]
  },
  {
   "cell_type": "code",
   "execution_count": 16,
   "metadata": {},
   "outputs": [],
   "source": [
    "X_train= torch.Tensor(X_train)\n",
    "X_test = torch.Tensor(X_test)\n",
    "Y_train = torch.Tensor(Y_train)\n",
    "Y_test = torch.Tensor(Y_test)"
   ]
  },
  {
   "cell_type": "code",
   "execution_count": 17,
   "metadata": {},
   "outputs": [
    {
     "name": "stdout",
     "output_type": "stream",
     "text": [
      "torch.Size([262144, 16])\n",
      "torch.Size([786432, 16])\n",
      "torch.Size([262144, 8])\n"
     ]
    }
   ],
   "source": [
    "print(X_test.shape)\n",
    "print(X_train.shape)\n",
    "print(Y_test.shape)"
   ]
  },
  {
   "cell_type": "code",
   "execution_count": 18,
   "metadata": {},
   "outputs": [],
   "source": [
    "traindataset = TensorDataset(X_train, Y_train)\n",
    "trainloader = DataLoader(traindataset, batch_size=batch, shuffle=True)\n",
    "testdataset = TensorDataset(X_test, Y_test)\n",
    "testloader = DataLoader(testdataset, batch_size=batch, shuffle=True)"
   ]
  },
  {
   "cell_type": "code",
   "execution_count": 19,
   "metadata": {},
   "outputs": [],
   "source": [
    "criterion = nn.BCELoss()\n",
    "optimizer = torch.optim.Adam(dnn.parameters(), lr=0.001, weight_decay=0.001)\n",
    "criterion = criterion.to(device)"
   ]
  },
  {
   "cell_type": "code",
   "execution_count": 20,
   "metadata": {},
   "outputs": [
    {
     "name": "stdout",
     "output_type": "stream",
     "text": [
      "No saved model, start training from epoch 1\n"
     ]
    }
   ],
   "source": [
    "if Model_Flag:\n",
    "    checkpoint = torch.load(log_dir)\n",
    "    dnn.load_state_dict(checkpoint['model_state_dict'])\n",
    "    optimizer.load_state_dict(checkpoint['optim_state_dict'])\n",
    "    criterion.load_state_dict(checkpoint['criterion_state_dict'])\n",
    "    criterion = criterion.to(device)\n",
    "    start_epoch = checkpoint['epoch']\n",
    "    print('load epoch {} successed！'.format(start_epoch))\n",
    "    epochs = epochs + start_epoch\n",
    "else:\n",
    "    start_epoch = -1\n",
    "    print('No saved model, start training from epoch 1')"
   ]
  },
  {
   "cell_type": "code",
   "execution_count": 21,
   "metadata": {},
   "outputs": [
    {
     "name": "stdout",
     "output_type": "stream",
     "text": [
      "Number of parameter: 37000.00\n",
      "Number of trainable_parameter: 37000.00\n",
      "Structure：[128, 16]\n",
      "Parameter number：2048\n",
      "Structure：[128]\n",
      "Parameter number：128\n",
      "Structure：[128]\n",
      "Parameter number：128\n",
      "Structure：[128]\n",
      "Parameter number：128\n",
      "Structure：[128, 128]\n",
      "Parameter number：16384\n",
      "Structure：[128]\n",
      "Parameter number：128\n",
      "Structure：[128]\n",
      "Parameter number：128\n",
      "Structure：[128]\n",
      "Parameter number：128\n",
      "Structure：[128, 128]\n",
      "Parameter number：16384\n",
      "Structure：[128]\n",
      "Parameter number：128\n",
      "Structure：[128]\n",
      "Parameter number：128\n",
      "Structure：[128]\n",
      "Parameter number：128\n",
      "Structure：[8, 128]\n",
      "Parameter number：1024\n",
      "Structure：[8]\n",
      "Parameter number：8\n",
      "Total parameter number：37000\n"
     ]
    }
   ],
   "source": [
    "total = sum([param.nelement() for param in dnn.parameters()])\n",
    "\n",
    "trainable_num = sum(p.numel() for p in dnn.parameters() if p.requires_grad)\n",
    "\n",
    "print(\"Number of parameter: %.2f\" % (total))\n",
    "\n",
    "print(\"Number of trainable_parameter: %.2f\" % (trainable_num))\n",
    "\n",
    "params = list(dnn.parameters())\n",
    "k = 0\n",
    "for i in params:\n",
    "    l = 1\n",
    "    print(\"Structure：\" + str(list(i.size())))\n",
    "    for j in i.size():\n",
    "        l *= j\n",
    "    print(\"Parameter number：\" + str(l))\n",
    "    k = k + l\n",
    "print(\"Total parameter number：\" + str(k))"
   ]
  },
  {
   "cell_type": "code",
   "execution_count": 22,
   "metadata": {},
   "outputs": [
    {
     "name": "stdout",
     "output_type": "stream",
     "text": [
      "epoch=0, train_loss=0.5309510408357406, BER=0.28014707565307617\n",
      "epoch=0, test_loss=0.4556379225687124, BER=0.21842145919799805\n",
      "epoch=100, train_loss=0.37904101551976055, BER=0.17509015401204428\n",
      "epoch=100, test_loss=0.3781485189101659, BER=0.17580270767211914\n",
      "epoch=200, train_loss=0.3785796411684714, BER=0.17508538564046225\n",
      "epoch=200, test_loss=0.37838021939387545, BER=0.17519855499267578\n",
      "epoch=300, train_loss=0.3784042276868907, BER=0.17483091354370117\n",
      "epoch=300, test_loss=0.3797416832530871, BER=0.17557716369628906\n",
      "epoch=400, train_loss=0.3781935341733818, BER=0.1746347745259603\n",
      "epoch=400, test_loss=0.3791896472685039, BER=0.17561960220336914\n",
      "epoch=500, train_loss=0.3782348804913151, BER=0.1748204231262207\n",
      "epoch=500, test_loss=0.3777445631567389, BER=0.1746978759765625\n",
      "epoch=600, train_loss=0.3782096587237902, BER=0.17466179529825845\n",
      "epoch=600, test_loss=0.37892136169830337, BER=0.17582464218139648\n",
      "epoch=700, train_loss=0.3784906676155515, BER=0.1749874750773112\n",
      "epoch=700, test_loss=0.3802310496685095, BER=0.17598676681518555\n",
      "epoch=800, train_loss=0.3784357890835963, BER=0.17484871546427408\n",
      "epoch=800, test_loss=0.3785041804658249, BER=0.1756305694580078\n",
      "epoch=900, train_loss=0.37820223678136244, BER=0.17479562759399414\n",
      "epoch=900, test_loss=0.3796094067511149, BER=0.17598724365234375\n",
      "epoch=1000, train_loss=0.37803593252707896, BER=0.17447344462076822\n",
      "epoch=1000, test_loss=0.38025139522505924, BER=0.1767721176147461\n",
      "epoch=1100, train_loss=0.37857251639555517, BER=0.17486937840779623\n",
      "epoch=1100, test_loss=0.37897769309347495, BER=0.17538833618164062\n",
      "epoch=1200, train_loss=0.37839634842627373, BER=0.17496776580810547\n",
      "epoch=1200, test_loss=0.3817538744187914, BER=0.1768779754638672\n",
      "epoch=1300, train_loss=0.3783079411174792, BER=0.17481772104899088\n",
      "epoch=1300, test_loss=0.380303074081894, BER=0.17606067657470703\n",
      "epoch=1400, train_loss=0.3781103727524169, BER=0.17466036478678384\n",
      "epoch=1400, test_loss=0.3790326534654014, BER=0.1758284568786621\n",
      "epoch=1500, train_loss=0.3783705029054545, BER=0.17478100458780924\n",
      "epoch=1500, test_loss=0.3808926675119437, BER=0.17607927322387695\n",
      "epoch=1600, train_loss=0.3783303246794579, BER=0.17478148142496744\n",
      "epoch=1600, test_loss=0.37939603195991367, BER=0.1756916046142578\n",
      "epoch=1700, train_loss=0.378287262787732, BER=0.17476113637288412\n",
      "epoch=1700, test_loss=0.37768505624262616, BER=0.17522335052490234\n",
      "epoch=1800, train_loss=0.37823939909382415, BER=0.17473236719767252\n",
      "epoch=1800, test_loss=0.3812492990982719, BER=0.17651081085205078\n",
      "epoch=1900, train_loss=0.3782661967367555, BER=0.17477973302205405\n",
      "epoch=1900, test_loss=0.37941149272955954, BER=0.17648839950561523\n",
      "epoch=2000, train_loss=0.3783519559074193, BER=0.17479705810546875\n",
      "epoch=2000, test_loss=0.3773514804779552, BER=0.17496871948242188\n",
      "0.0037025600727247365\n"
     ]
    }
   ],
   "source": [
    "train_losses = []\n",
    "test_losses = []\n",
    "train_ber = []\n",
    "test_ber = []\n",
    "start_time = time.time()\n",
    "sum_number = 0\n",
    "total_time = 0\n",
    "for i in range(start_epoch+1, epochs):\n",
    "    running_loss = 0.0\n",
    "\n",
    "    num_of_data = 0\n",
    "    correct = 0\n",
    "    ber = 0\n",
    "    data_size = 0 \n",
    "    for inputs,labels in trainloader:\n",
    "        dnn.train()\n",
    "\n",
    "        inputs = inputs.to(device)\n",
    "        labels = labels.to(device)\n",
    "\n",
    "        optimizer.zero_grad()\n",
    "\n",
    "        if Test_Model == 'CNN':\n",
    "            inputs = torch.reshape(inputs, [-1, 1, 1, N])\n",
    "        elif Test_Model == 'RNN':\n",
    "            inputs = torch.reshape(inputs, [-1, 1, N])\n",
    "\n",
    "        start_time = time.time()\n",
    "\n",
    "        outputs = dnn(inputs)\n",
    "        end_time = time.time()\n",
    "        sum_number += 1\n",
    "        total_time = total_time + (end_time-start_time)\n",
    "        \n",
    "        loss = criterion(outputs, labels)#loss function\n",
    "        loss.backward()#Backpropagation calculation of current gradient\n",
    "        optimizer.step()#Update current gradient\n",
    "\n",
    "        running_loss += loss.item()#Count the number of errors\n",
    "        num_of_data += 1\n",
    "        j_iterate = len(outputs)\n",
    "        len_of_code = len(outputs[0])\n",
    "        outputs = (outputs > 0.5).type(torch.int64)\n",
    "        ber += (outputs != labels).cpu().numpy().sum()\n",
    "        data_size += outputs.cpu().numpy().size\n",
    "    if i % print_time == 0:\n",
    "        print(f'epoch={i}, train_loss={running_loss/num_of_data}, BER={ber/data_size}')\n",
    "    train_losses.append(running_loss/num_of_data)#add data\n",
    "    train_ber.append(ber/data_size)\n",
    "    data_size = 0\n",
    "    ber = 0\n",
    "    num_of_data = 0\n",
    "    running_loss = 0\n",
    "\n",
    "    with torch.no_grad():\n",
    "        dnn.eval()\n",
    "        for inputs,labels in testloader:\n",
    "            inputs = inputs.to(device)\n",
    "            labels = labels.to(device)\n",
    "\n",
    "            if Test_Model == 'CNN':\n",
    "                inputs = torch.reshape(inputs, [-1, 1, 1, N])\n",
    "            elif Test_Model == 'RNN':\n",
    "                inputs = torch.reshape(inputs, [-1, 1, N])\n",
    "            \n",
    "            outputs = dnn(inputs)\n",
    "            loss = criterion(outputs, labels)\n",
    "            running_loss += loss.item()\n",
    "            num_of_data += 1\n",
    "            outputs = (outputs > 0.5).type(torch.int64)\n",
    "            ber += (outputs != labels).cpu().numpy().sum()\n",
    "            data_size += outputs.cpu().numpy().size\n",
    "    if i % print_time == 0:\n",
    "        print(f'epoch={i}, test_loss={running_loss/num_of_data}, BER={ber/data_size}')\n",
    "    test_losses.append(running_loss/num_of_data)\n",
    "    test_ber.append(ber/data_size)\n",
    "end_time = time.time()\n",
    "print(total_time/sum_number)"
   ]
  },
  {
   "cell_type": "code",
   "execution_count": 23,
   "metadata": {},
   "outputs": [
    {
     "name": "stdout",
     "output_type": "stream",
     "text": [
      "4.956733226776123\n"
     ]
    }
   ],
   "source": [
    "print(end_time-start_time)#Total model training time"
   ]
  },
  {
   "cell_type": "code",
   "execution_count": 24,
   "metadata": {},
   "outputs": [
    {
     "name": "stdout",
     "output_type": "stream",
     "text": [
      "3145728\n"
     ]
    }
   ],
   "source": [
    "print(sum_number)"
   ]
  },
  {
   "cell_type": "markdown",
   "metadata": {},
   "source": [
    "# Save Model"
   ]
  },
  {
   "cell_type": "code",
   "execution_count": 25,
   "metadata": {},
   "outputs": [
    {
     "name": "stdout",
     "output_type": "stream",
     "text": [
      "file_2024-04-23-16-14.path\n"
     ]
    }
   ],
   "source": [
    "current_datetime = datetime.datetime.now()\n",
    "formatted_datetime = current_datetime.strftime(\"%Y-%m-%d-%H-%M\")\n",
    "file_name_prefix = \"file\"\n",
    "file_extension = \".path\"\n",
    "file_name = f\"{file_name_prefix}_{formatted_datetime}{file_extension}\"\n",
    "print(file_name)\n",
    "#Save model\n",
    "#torch.save(dnn, file_name)\n",
    "checkpoint_dict = {'epoch': epochs, \n",
    "                   'model_state_dict': dnn.state_dict(), \n",
    "                   'optim_state_dict': optimizer.state_dict(), \n",
    "                   'criterion_state_dict': criterion.state_dict()}\n",
    "torch.save(checkpoint_dict, file_name)"
   ]
  },
  {
   "cell_type": "code",
   "execution_count": 26,
   "metadata": {},
   "outputs": [
    {
     "data": {
      "image/png": "[encoded data removed]",
      "text/plain": [
       "<Figure size 640x480 with 1 Axes>"
      ]
     },
     "metadata": {},
     "output_type": "display_data"
    }
   ],
   "source": [
    "import matplotlib.pyplot as plt\n",
    "plt.plot(train_ber, label='train')\n",
    "plt.plot(test_ber, label='test')\n",
    "plt.legend()\n",
    "plt.title('BER')\n",
    "file_jpg = \".jpg\"\n",
    "file_jpg_name = f\"{file_name_prefix}_{formatted_datetime}{file_jpg}\"\n",
    "plt.savefig(file_jpg_name)"
   ]
  },
  {
   "cell_type": "code",
   "execution_count": 27,
   "metadata": {},
   "outputs": [
    {
     "data": {
      "image/png": "[encoded data removed]",
      "text/plain": [
       "<Figure size 640x480 with 1 Axes>"
      ]
     },
     "metadata": {},
     "output_type": "display_data"
    }
   ],
   "source": [
    "import matplotlib.pyplot as plt\n",
    "plt.plot(train_losses, label='train')\n",
    "plt.plot(test_losses, label='test')\n",
    "plt.legend()\n",
    "plt.title('Losses')\n",
    "file_jpg = \".png\"\n",
    "file_jpg_name = f\"{file_name_prefix}_{formatted_datetime}{file_jpg}\"\n",
    "plt.savefig(file_jpg_name)"
   ]
  },
  {
   "cell_type": "code",
   "execution_count": 44,
   "metadata": {},
   "outputs": [
    {
     "data": {
      "text/plain": [
       "<All keys matched successfully>"
      ]
     },
     "execution_count": 44,
     "metadata": {},
     "output_type": "execute_result"
    }
   ],
   "source": [
    "#Load model\n",
    "checkpoint = torch.load('MLP.path')\n",
    "# checkpoint = torch.load(file_name)\n",
    "dnn.load_state_dict(checkpoint['model_state_dict'])"
   ]
  },
  {
   "cell_type": "markdown",
   "metadata": {},
   "source": [
    "# Simulation"
   ]
  },
  {
   "cell_type": "code",
   "execution_count": 45,
   "metadata": {},
   "outputs": [
    {
     "name": "stdout",
     "output_type": "stream",
     "text": [
      "Number of parameter: 37000.00\n",
      "Number of trainable_parameter: 37000.00\n",
      "Structure：[128, 16]\n",
      "Parameter number：2048\n",
      "Structure：[128]\n",
      "Parameter number：128\n",
      "Structure：[128]\n",
      "Parameter number：128\n",
      "Structure：[128]\n",
      "Parameter number：128\n",
      "Structure：[128, 128]\n",
      "Parameter number：16384\n",
      "Structure：[128]\n",
      "Parameter number：128\n",
      "Structure：[128]\n",
      "Parameter number：128\n",
      "Structure：[128]\n",
      "Parameter number：128\n",
      "Structure：[128, 128]\n",
      "Parameter number：16384\n",
      "Structure：[128]\n",
      "Parameter number：128\n",
      "Structure：[128]\n",
      "Parameter number：128\n",
      "Structure：[128]\n",
      "Parameter number：128\n",
      "Structure：[8, 128]\n",
      "Parameter number：1024\n",
      "Structure：[8]\n",
      "Parameter number：8\n",
      "Total parameter number：37000\n"
     ]
    }
   ],
   "source": [
    "total = sum([param.nelement() for param in dnn.parameters()])\n",
    "\n",
    "trainable_num = sum(p.numel() for p in dnn.parameters() if p.requires_grad)\n",
    "\n",
    "print(\"Number of parameter: %.2f\" % (total))\n",
    "\n",
    "print(\"Number of trainable_parameter: %.2f\" % (trainable_num))\n",
    "\n",
    "params = list(dnn.parameters())\n",
    "k = 0\n",
    "for i in params:\n",
    "    l = 1\n",
    "    print(\"Structure：\" + str(list(i.size())))\n",
    "    for j in i.size():\n",
    "        l *= j\n",
    "    print(\"Parameter number：\" + str(l))\n",
    "    k = k + l\n",
    "print(\"Total parameter number：\" + str(k))"
   ]
  },
  {
   "cell_type": "code",
   "execution_count": 46,
   "metadata": {},
   "outputs": [],
   "source": [
    "def fails(list1, list2):\n",
    "    \"\"\"returns number of bit errors\"\"\"\n",
    "    return pcf.np.sum(pcf.np.absolute(list1 - list2))"
   ]
  },
  {
   "cell_type": "code",
   "execution_count": 48,
   "metadata": {},
   "outputs": [
    {
     "name": "stdout",
     "output_type": "stream",
     "text": [
      "Eb/N0: 0 FER 0.40181 BER 0.171395\n",
      "0.00033933868885040284\n",
      "Eb/N0: 1 FER 0.27371 BER 0.1115775\n",
      "0.00034025192975997926\n",
      "Eb/N0: 2 FER 0.16545 BER 0.0633575\n",
      "0.00033948930025100706\n",
      "Eb/N0: 3 FER 0.08384 BER 0.03000875\n",
      "0.0003406120991706848\n",
      "Eb/N0: 4 FER 0.03547 BER 0.01161\n",
      "0.00033646308183670046\n",
      "Eb/N0: 5 FER 0.0128 BER 0.00396\n",
      "0.0003381465029716492\n",
      "Eb/N0: 6 FER 0.00359 BER 0.0009425\n",
      "0.0003393741202354431\n"
     ]
    }
   ],
   "source": [
    "import polar_codes.polar_coding_functions as pcf\n",
    "EbN0=7\n",
    "Frame_number=100000\n",
    "for j in range(EbN0):#EbN0\n",
    "    fer=0\n",
    "    ber=0\n",
    "    sinrdb = j\n",
    "    channel = BpskAwgnChannel(sinrdb,R)\n",
    "    rprofile = rateprofile(N,K,sinrdb)\n",
    "    sum_time = 0\n",
    "    for i in range(Frame_number):\n",
    "        code = PACCode(N=N, K=K, construct='rm-polar',dSNR=sinrdb, rprofile=rprofile)\n",
    "        u_message = np.asarray([0 if np.random.random_sample() > 0.5 else 1 for _ in range(0, K)], dtype='uint8')\n",
    "\n",
    "        x_message = code.pac_encode(u_message, conv_gen, mem)\n",
    "\n",
    "        to_message = channel.modulate(x_message)\n",
    "        from_message = channel.transmit(to_message)\n",
    "\n",
    "        if LLR_Model  == 'Hard':\n",
    "            y_message = channel.demodulate(from_message)\n",
    "        elif LLR_Model  == 'Dire':\n",
    "            y_message = from_message\n",
    "        elif LLR_Model == 'Calc':\n",
    "            y_message = channel.cal_llr(from_message)\n",
    "        else:\n",
    "            raise SystemExit('Please select the correct input')\n",
    "        y_message_tensor = torch.tensor(y_message, dtype=torch.float32).unsqueeze(0)\n",
    "        y_message_tensor = y_message_tensor.to(device)\n",
    "        if Test_Model == 'CNN': \n",
    "            y_message_tensor = torch.reshape(y_message_tensor, [-1, 1, 1, N])\n",
    "        elif Test_Model == 'RNN':\n",
    "            y_message_tensor = torch.reshape(y_message_tensor, [-1, 1, N])\n",
    "        \n",
    "        start_time = time.time()\n",
    "        out = dnn(y_message_tensor)\n",
    "        out = (out > 0.5).type(torch.int64).cpu().numpy()[0]        \n",
    "        end_time = time.time()\n",
    "        sum_time = sum_time + (end_time-start_time)\n",
    "        \n",
    "        ber += fails(u_message, out)\n",
    "\n",
    "        if not pcf.np.array_equal(u_message, out):\n",
    "            fer += 1\n",
    "    print(\"Eb/N0:\",j,\"FER\",fer/Frame_number,\"BER\",ber/Frame_number/K)\n",
    "    print(sum_time/Frame_number)"
   ]
  },
  {
   "cell_type": "code",
   "execution_count": null,
   "metadata": {},
   "outputs": [],
   "source": []
  }
 ],
 "metadata": {
  "kernelspec": {
   "display_name": "Python 3 (ipykernel)",
   "language": "python",
   "name": "python3"
  },
  "language_info": {
   "codemirror_mode": {
    "name": "ipython",
    "version": 3
   },
   "file_extension": ".py",
   "mimetype": "text/x-python",
   "name": "python",
   "nbconvert_exporter": "python",
   "pygments_lexer": "ipython3",
   "version": "3.11.7"
  }
 },
 "nbformat": 4,
 "nbformat_minor": 4
}
